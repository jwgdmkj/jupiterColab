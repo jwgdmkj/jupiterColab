{
  "nbformat": 4,
  "nbformat_minor": 0,
  "metadata": {
    "colab": {
      "name": "Untitled4.ipynb",
      "provenance": [],
      "authorship_tag": "ABX9TyMXlGil1a7CqE0BGEb9vHMj",
      "include_colab_link": true
    },
    "kernelspec": {
      "name": "python3",
      "display_name": "Python 3"
    },
    "language_info": {
      "name": "python"
    }
  },
  "cells": [
    {
      "cell_type": "markdown",
      "metadata": {
        "id": "view-in-github",
        "colab_type": "text"
      },
      "source": [
        "<a href=\"https://colab.research.google.com/github/jwgdmkj/jupiterColab/blob/master/Boosting.ipynb\" target=\"_parent\"><img src=\"https://colab.research.google.com/assets/colab-badge.svg\" alt=\"Open In Colab\"/></a>"
      ]
    },
    {
      "cell_type": "code",
      "metadata": {
        "id": "hvMolyjekm1b"
      },
      "source": [
        "\"\"\"\n",
        "지니계수 - 데이터 분포 균형 제대로 안 된거 판별 \n",
        "ex) 가슴통증 있거나 없거나, 심장병 있는사람 없는사람\n",
        "가슴통증 있고 심장병 있는사람 105, 없는사람 39\n",
        "가슴틍증 없고 심장병있음 34 없음 125이면, \n",
        "1-(105/(105+39))^2-(39/(105+39))^2 가 곧 심장병있고 가슴통증없는 사람의 지니계수\n",
        "지니가 낮을수록 분포균형이 잘 된 것\n",
        "\n",
        "토탈 섬 가슴통증 있는 것의 지니게수는 0.395, 없는 건 0.336가 나오는데,\n",
        "여기서 있는사람 총수 144와 없는사람 159이므로\n",
        "(144*0.395)/(144+159) + (159*0.336)/(144+159)가 최종 0.364, 가슴통증의 총 지니계수가 됨\n",
        "\n",
        "chest pain 잇는 사람중 심장병 있거나, 없거나등등을 세서, data를 생성\n",
        "이를 통해, 어떤 feature가 더 좋은지 판별한다.\n",
        "chest pain || good blood circulation || blocked arteries 등등과 심장병의 지니계수를 계산해,\n",
        "낮을수록 더 순도가 높다는 것이며, 만일 good blood circulation과 심장병의 지니계수가 낮다면\n",
        "심장혈관과 심장병의 상관관계가 제일 높단 것의 추측이 가능\n",
        "이 가장 낮은 것을 맨위 Tree에 놓는다. 다음으론,\n",
        "\n",
        "Good blood circulation을 제한 것과 심장병 지니관계중 제일 낮은걸 다음 node로 놓기\n",
        "\n",
        "주의점! Tree를 무한정 길게 하지 마라. 어떤 노드의 새끼 노드의 지니계수가 더 높다면, \n",
        "부모보다 순도가 더 낮다는 것. \n",
        "하나의 노드로 나눠진 정보가 새끼보다 더 나아야 하는데, 새끼에서 나눴을 때 지니계수가 더 높다면\n",
        "더 하는 의미가 없어진다.\n",
        "부모는, 자식보다 그 가치가 좋아야 하는데, 새끼의 지니계수가 높다면 정보 가치가 떨어진다.\n",
        "\n",
        "https://ratsgo.github.io/machine%20learning/2017/03/26/tree/\n",
        "\n",
        "\"\"\"\n",
        "\n",
        "from sklearn.datasets import load_iris\n",
        "from sklearn import tree"
      ],
      "execution_count": 1,
      "outputs": []
    },
    {
      "cell_type": "code",
      "metadata": {
        "id": "3NxoM6781JJ8"
      },
      "source": [
        "iris = load_iris()"
      ],
      "execution_count": 2,
      "outputs": []
    },
    {
      "cell_type": "code",
      "metadata": {
        "colab": {
          "base_uri": "https://localhost:8080/"
        },
        "id": "E1csnGYk1MwA",
        "outputId": "6ad0766f-a548-4bc2-b2aa-1fac4ca1aa0c"
      },
      "source": [
        "X, y= iris.data, iris.target\n",
        "X.shape, y.shape"
      ],
      "execution_count": 3,
      "outputs": [
        {
          "output_type": "execute_result",
          "data": {
            "text/plain": [
              "((150, 4), (150,))"
            ]
          },
          "metadata": {},
          "execution_count": 3
        }
      ]
    },
    {
      "cell_type": "code",
      "metadata": {
        "colab": {
          "base_uri": "https://localhost:8080/"
        },
        "id": "6rPxCYxO1RtM",
        "outputId": "1e2e2ab4-1f3a-4cce-e22b-fafa9ca4913e"
      },
      "source": [
        "X[0]"
      ],
      "execution_count": 4,
      "outputs": [
        {
          "output_type": "execute_result",
          "data": {
            "text/plain": [
              "array([5.1, 3.5, 1.4, 0.2])"
            ]
          },
          "metadata": {},
          "execution_count": 4
        }
      ]
    },
    {
      "cell_type": "code",
      "metadata": {
        "colab": {
          "base_uri": "https://localhost:8080/",
          "height": 35
        },
        "id": "TUOZUWEP1XOK",
        "outputId": "ee86c860-d073-4411-a1f3-cd1363c288a8"
      },
      "source": [
        "iris.feature_names\n",
        "\"\"\"\n",
        "꽃잎 길이와 너비, 꽃받침대 길이 너비에 관한 행\n",
        "\"\"\"\n",
        "\n"
      ],
      "execution_count": 5,
      "outputs": [
        {
          "output_type": "execute_result",
          "data": {
            "application/vnd.google.colaboratory.intrinsic+json": {
              "type": "string"
            },
            "text/plain": [
              "'\\n꽃잎 길이와 너비, 꽃받침대 길이 너비에 관한 행\\n'"
            ]
          },
          "metadata": {},
          "execution_count": 5
        }
      ]
    },
    {
      "cell_type": "code",
      "metadata": {
        "colab": {
          "base_uri": "https://localhost:8080/"
        },
        "id": "MQlxbjVA1oRc",
        "outputId": "96a30b27-1f8d-41a7-b233-298d21b966ed"
      },
      "source": [
        "y[:100]"
      ],
      "execution_count": 6,
      "outputs": [
        {
          "output_type": "execute_result",
          "data": {
            "text/plain": [
              "array([0, 0, 0, 0, 0, 0, 0, 0, 0, 0, 0, 0, 0, 0, 0, 0, 0, 0, 0, 0, 0, 0,\n",
              "       0, 0, 0, 0, 0, 0, 0, 0, 0, 0, 0, 0, 0, 0, 0, 0, 0, 0, 0, 0, 0, 0,\n",
              "       0, 0, 0, 0, 0, 0, 1, 1, 1, 1, 1, 1, 1, 1, 1, 1, 1, 1, 1, 1, 1, 1,\n",
              "       1, 1, 1, 1, 1, 1, 1, 1, 1, 1, 1, 1, 1, 1, 1, 1, 1, 1, 1, 1, 1, 1,\n",
              "       1, 1, 1, 1, 1, 1, 1, 1, 1, 1, 1, 1])"
            ]
          },
          "metadata": {},
          "execution_count": 6
        }
      ]
    },
    {
      "cell_type": "code",
      "metadata": {
        "colab": {
          "base_uri": "https://localhost:8080/"
        },
        "id": "XakVyivt1vqL",
        "outputId": "3c5462ef-d481-4cd3-877a-25a338bafcf6"
      },
      "source": [
        "\"\"\"\n",
        "전체적으로 3개의 클래스 존재(꽃들의 종류) 0으로 나오면 setosa, 1번이면 versicolor,\n",
        "2번이aus virginica\n",
        "어떤 data가 input으로 들어올때 어떤 클래스에 해당하는 꽃인지 decision tree로 구해보자!\n",
        "fully connected layer로도 가능할 테지만, 이 편도 가능.\n",
        "\"\"\"\n",
        "iris.target_names"
      ],
      "execution_count": 7,
      "outputs": [
        {
          "output_type": "execute_result",
          "data": {
            "text/plain": [
              "array(['setosa', 'versicolor', 'virginica'], dtype='<U10')"
            ]
          },
          "metadata": {},
          "execution_count": 7
        }
      ]
    },
    {
      "cell_type": "code",
      "metadata": {
        "id": "_XF-eYg_2NdT"
      },
      "source": [
        "model = tree.DecisionTreeClassifier()"
      ],
      "execution_count": 8,
      "outputs": []
    },
    {
      "cell_type": "markdown",
      "metadata": {
        "id": "M8dc4Z4T2nnO"
      },
      "source": [
        ""
      ]
    },
    {
      "cell_type": "code",
      "metadata": {
        "id": "Zw1qU-nu1mLA"
      },
      "source": [
        "model = model.fit(X,y) #인풋, 아웃풋 넣고 fit"
      ],
      "execution_count": 9,
      "outputs": []
    },
    {
      "cell_type": "code",
      "metadata": {
        "colab": {
          "base_uri": "https://localhost:8080/",
          "height": 53
        },
        "id": "_1_swNcr2TmW",
        "outputId": "58050774-59be-41ee-d050-011c1d7298bd"
      },
      "source": [
        "import graphviz\n",
        "\n",
        "#\n",
        "dot_data = tree.export_graphviz(model, out_file = None)\n",
        "graph = graphviz.Source(dot_data)\n",
        "\n",
        "graph #트리 완성시키기\n",
        "\n",
        "\"\"\"\n",
        "지니계수는, 아래에서는 그냥 1에서 뺀 것이 아닌, 높은 게 더 좋다고 표시함\n",
        "X[2]인 꽃잎 너비가 0.8보다 작느냐를 기준으로 트리를 구성  \n",
        "\"\"\""
      ],
      "execution_count": 10,
      "outputs": [
        {
          "output_type": "execute_result",
          "data": {
            "application/vnd.google.colaboratory.intrinsic+json": {
              "type": "string"
            },
            "text/plain": [
              "'\\n지니계수는, 아래에서는 그냥 1에서 뺀 것이 아닌, 높은 게 더 좋다고 표시함\\nX[2]인 꽃잎 너비가 0.8보다 작느냐를 기준으로 트리를 구성  \\n'"
            ]
          },
          "metadata": {},
          "execution_count": 10
        }
      ]
    },
    {
      "cell_type": "code",
      "metadata": {
        "colab": {
          "base_uri": "https://localhost:8080/"
        },
        "id": "xLTcaMCt3G1M",
        "outputId": "2600d62e-6b69-44b7-e289-ca7f72d541e4"
      },
      "source": [
        "iris.target_names"
      ],
      "execution_count": 11,
      "outputs": [
        {
          "output_type": "execute_result",
          "data": {
            "text/plain": [
              "array(['setosa', 'versicolor', 'virginica'], dtype='<U10')"
            ]
          },
          "metadata": {},
          "execution_count": 11
        }
      ]
    },
    {
      "cell_type": "code",
      "metadata": {
        "colab": {
          "base_uri": "https://localhost:8080/"
        },
        "id": "MhEr0PEy3J5U",
        "outputId": "d97d7561-22c2-42c0-da94-9730a8981b44"
      },
      "source": [
        "\"\"\"\n",
        "만일 아래의 새 데이터가 들어왔다 할 때, 이 꽃이 어떤 품종인지 밝히고자 한다.\n",
        "예측을 돌려본다. predict통해, decision tree에다가 X[50]을 넣어본다.\n",
        "\"\"\"\n",
        "X[50]"
      ],
      "execution_count": 12,
      "outputs": [
        {
          "output_type": "execute_result",
          "data": {
            "text/plain": [
              "array([7. , 3.2, 4.7, 1.4])"
            ]
          },
          "metadata": {},
          "execution_count": 12
        }
      ]
    },
    {
      "cell_type": "code",
      "metadata": {
        "colab": {
          "base_uri": "https://localhost:8080/"
        },
        "id": "abeyCMc13M6q",
        "outputId": "3370c55f-9255-43b1-b834-636a3ee4f61c"
      },
      "source": [
        "\"\"\"\n",
        "50번쨰 꽃은 첫 번째 클래스(종류의 꽃), 100번쨰 꽃은 두 번째 클래스(꽃)이다.\n",
        "\"\"\"\n",
        "model.predict([X[0], X[50], X[100]])"
      ],
      "execution_count": 13,
      "outputs": [
        {
          "output_type": "execute_result",
          "data": {
            "text/plain": [
              "array([0, 1, 2])"
            ]
          },
          "metadata": {},
          "execution_count": 13
        }
      ]
    },
    {
      "cell_type": "code",
      "metadata": {
        "id": "euUJ46B6Kc3E"
      },
      "source": [
        "\"\"\"\n",
        "배깅 - 마치 투표처럼, decision 트리는 하나의 결과를 예측하는 것으로, 심장병이 있을지 없을지\n",
        "판단하는데, 앙상블은 그 트리를 여러개 만들어, 예측 결과를 투표를 통해 의사결정 함.\n",
        "(랜덤 포레스트)\n",
        "이에 쓰이는 데이터는 일부만 쓰인다. \n",
        "의사결정이 완성된 모든 트리를 넣은뒤, 각각이 도출한 결과 중 가장 많은 결과치가 나온 걸로 결정\n",
        "심장병 있는거 3개, 없는거 1개로 결과가 나왔다면 나온 것으로 하는 등....\n",
        "\"\"\"\n",
        "from sklearn.ensemble import RandomForestClassifier\n",
        "\n",
        "#maxdepth = \n",
        "#샘플을 몇개로 쪼갤까 - mean sample\n",
        "#estimate가 100 : 트리를 100개까지 만듬\n",
        "rf_model = RandomForestClassifier(n_estimators= 10, max_depth = 4, random_state = 0)\n",
        "rf_model = rf_model.fit(X,y)"
      ],
      "execution_count": 14,
      "outputs": []
    },
    {
      "cell_type": "code",
      "metadata": {
        "id": "XMHJdj-_MhBa",
        "colab": {
          "base_uri": "https://localhost:8080/"
        },
        "outputId": "32d863c8-5a6b-4993-e2e8-4c7233c352e4"
      },
      "source": [
        "rf_model.predict([X[0], X[1], X[2]])"
      ],
      "execution_count": 15,
      "outputs": [
        {
          "output_type": "execute_result",
          "data": {
            "text/plain": [
              "array([0, 0, 0])"
            ]
          },
          "metadata": {},
          "execution_count": 15
        }
      ]
    },
    {
      "cell_type": "code",
      "metadata": {
        "id": "Q3ownKOq2ILD",
        "outputId": "c41c91c9-15dc-45bb-a8a0-ea2163c8c5ef",
        "colab": {
          "base_uri": "https://localhost:8080/"
        }
      },
      "source": [
        "\"\"\"\n",
        "배깅 - 연속적으로 sequential 하게 트리 생성해감. \n",
        "부스팅 - 각 트리를 평균내는 것이 아닌, 가중치도 계산, 곱해 weigthed sum 구함\n",
        "\n",
        "첫번째 classifier 학습시키기 위해, 전채 training set 중 random sampling\n",
        "에러로부터 모델의 weight를 계산\n",
        "예측이 틀린 training data point의 weight 갱신, 다음 bootstrap에서 더 잘뽑히도록 함\n",
        "일단 자른 트리의 정확도를 계산\n",
        "\n",
        "각 트리는, 샘플링 부트스트랩 할 때마다 생성된다. 이 떄, 배깅은 서브샘플링을 다 랜덤으로 \n",
        "독립적으로 하나, 여기선 한 번 트리를 학습시키고 전체 데이터셋에 예측 하면, 틀린 것에\n",
        "가중치를 더 부여.다음 라운드에서 더 잘 뽑히도록 미세조정. \n",
        "이러면, 샘플을 뽑을 떄 이전의 틀렸던 데이터포인트가 포함될 확률 증가,\n",
        "틀렸던 것을 반복적으로 트리로 학습시킴.\n",
        "원래 데이터포인트 뽑힐 확률이 동일한데, 어떤 데이터포인트가 틀리면 이거의 확률을 늘리는 업뎃\n",
        "\n",
        "배깅(랜덤포레스트) - 각 트리가 독립적이기에, 오버피팅 위험 적음, 안정적. 병렬적, 빠른 실행\n",
        "\n",
        "부스팅(에이더부스트) - accuracy 높음. 지속적으로 학습해가며, 확률을 높이기위해 조정을 하기에, \n",
        "오버피팅.\n",
        "\"\"\"\n",
        "\n",
        "from sklearn.ensemble import AdaBoostClassifier\n",
        "ab_model = AdaBoostClassifier(n_estimators = 10, random_state = 0)\n",
        "ab_model = ab_model.fit(X,y)\n",
        "ab_model.predict([X[0], X[1], X[2]])"
      ],
      "execution_count": 18,
      "outputs": [
        {
          "output_type": "execute_result",
          "data": {
            "text/plain": [
              "array([0, 0, 0])"
            ]
          },
          "metadata": {},
          "execution_count": 18
        }
      ]
    }
  ]
}