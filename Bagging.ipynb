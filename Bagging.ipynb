{
  "nbformat": 4,
  "nbformat_minor": 0,
  "metadata": {
    "colab": {
      "name": "Untitled4.ipynb",
      "provenance": [],
      "authorship_tag": "ABX9TyNaoMzMeN2opmxO2LitA/ca",
      "include_colab_link": true
    },
    "kernelspec": {
      "name": "python3",
      "display_name": "Python 3"
    },
    "language_info": {
      "name": "python"
    }
  },
  "cells": [
    {
      "cell_type": "markdown",
      "metadata": {
        "id": "view-in-github",
        "colab_type": "text"
      },
      "source": [
        "<a href=\"https://colab.research.google.com/github/jwgdmkj/jupiterColab/blob/master/Bagging.ipynb\" target=\"_parent\"><img src=\"https://colab.research.google.com/assets/colab-badge.svg\" alt=\"Open In Colab\"/></a>"
      ]
    },
    {
      "cell_type": "code",
      "metadata": {
        "id": "hvMolyjekm1b"
      },
      "source": [
        "\"\"\"\n",
        "지니계수 - 데이터 분포 균형 제대로 안 된거 판별 \n",
        "ex) 가슴통증 있거나 없거나, 심장병 있는사람 없는사람\n",
        "가슴통증 있고 심장병 있는사람 105, 없는사람 39\n",
        "가슴틍증 없고 심장병있음 34 없음 125이면, \n",
        "1-(105/(105+39))^2-(39/(105+39))^2 가 곧 심장병있고 가슴통증없는 사람의 지니계수\n",
        "지니가 낮을수록 분포균형이 잘 된 것\n",
        "\n",
        "토탈 섬 가슴통증 있는 것의 지니게수는 0.395, 없는 건 0.336가 나오는데,\n",
        "여기서 있는사람 총수 144와 없는사람 159이므로\n",
        "(144*0.395)/(144+159) + (159*0.336)/(144+159)가 최종 0.364, 가슴통증의 총 지니계수가 됨\n",
        "\n",
        "chest pain 잇는 사람중 심장병 있거나, 없거나등등을 세서, data를 생성\n",
        "이를 통해, 어떤 feature가 더 좋은지 판별한다.\n",
        "chest pain || good blood circulation || blocked arteries 등등과 심장병의 지니계수를 계산해,\n",
        "낮을수록 더 순도가 높다는 것이며, 만일 good blood circulation과 심장병의 지니계수가 낮다면\n",
        "심장혈관과 심장병의 상관관계가 제일 높단 것의 추측이 가능\n",
        "이 가장 낮은 것을 맨위 Tree에 놓는다. 다음으론,\n",
        "\n",
        "Good blood circulation을 제한 것과 심장병 지니관계중 제일 낮은걸 다음 node로 놓기\n",
        "\n",
        "주의점! Tree를 무한정 길게 하지 마라. 어떤 노드의 새끼 노드의 지니계수가 더 높다면, \n",
        "부모보다 순도가 더 낮다는 것. \n",
        "하나의 노드로 나눠진 정보가 새끼보다 더 나아야 하는데, 새끼에서 나눴을 때 지니계수가 더 높다면\n",
        "더 하는 의미가 없어진다.\n",
        "부모는, 자식보다 그 가치가 좋아야 하는데, 새끼의 지니계수가 높다면 정보 가치가 떨어진다.\n",
        "\n",
        "https://ratsgo.github.io/machine%20learning/2017/03/26/tree/\n",
        "\n",
        "\"\"\"\n",
        "\n",
        "from sklearn.datasets import load_iris\n",
        "from sklearn import tree"
      ],
      "execution_count": 1,
      "outputs": []
    },
    {
      "cell_type": "code",
      "metadata": {
        "id": "3NxoM6781JJ8"
      },
      "source": [
        "iris = load_iris()"
      ],
      "execution_count": 2,
      "outputs": []
    },
    {
      "cell_type": "code",
      "metadata": {
        "colab": {
          "base_uri": "https://localhost:8080/"
        },
        "id": "E1csnGYk1MwA",
        "outputId": "1e271359-c0aa-4388-acbb-e5508d650411"
      },
      "source": [
        "X, y= iris.data, iris.target\n",
        "X.shape, y.shape"
      ],
      "execution_count": 3,
      "outputs": [
        {
          "output_type": "execute_result",
          "data": {
            "text/plain": [
              "((150, 4), (150,))"
            ]
          },
          "metadata": {},
          "execution_count": 3
        }
      ]
    },
    {
      "cell_type": "code",
      "metadata": {
        "colab": {
          "base_uri": "https://localhost:8080/"
        },
        "id": "6rPxCYxO1RtM",
        "outputId": "dee2f0e1-e187-4ef8-bbb3-de432e8625c8"
      },
      "source": [
        "X[0]"
      ],
      "execution_count": 4,
      "outputs": [
        {
          "output_type": "execute_result",
          "data": {
            "text/plain": [
              "array([5.1, 3.5, 1.4, 0.2])"
            ]
          },
          "metadata": {},
          "execution_count": 4
        }
      ]
    },
    {
      "cell_type": "code",
      "metadata": {
        "colab": {
          "base_uri": "https://localhost:8080/",
          "height": 35
        },
        "id": "TUOZUWEP1XOK",
        "outputId": "3ee7855c-ac33-4b41-dbd2-0d0a005d8f68"
      },
      "source": [
        "iris.feature_names\n",
        "\"\"\"\n",
        "꽃잎 길이와 너비, 꽃받침대 길이 너비에 관한 행\n",
        "\"\"\"\n",
        "\n"
      ],
      "execution_count": 5,
      "outputs": [
        {
          "output_type": "execute_result",
          "data": {
            "application/vnd.google.colaboratory.intrinsic+json": {
              "type": "string"
            },
            "text/plain": [
              "'\\n꽃잎 길이와 너비, 꽃받침대 길이 너비에 관한 행\\n'"
            ]
          },
          "metadata": {},
          "execution_count": 5
        }
      ]
    },
    {
      "cell_type": "code",
      "metadata": {
        "colab": {
          "base_uri": "https://localhost:8080/"
        },
        "id": "MQlxbjVA1oRc",
        "outputId": "4fa2c973-5703-40c9-e26f-99bb04f73d60"
      },
      "source": [
        "y[:100]"
      ],
      "execution_count": 6,
      "outputs": [
        {
          "output_type": "execute_result",
          "data": {
            "text/plain": [
              "array([0, 0, 0, 0, 0, 0, 0, 0, 0, 0, 0, 0, 0, 0, 0, 0, 0, 0, 0, 0, 0, 0,\n",
              "       0, 0, 0, 0, 0, 0, 0, 0, 0, 0, 0, 0, 0, 0, 0, 0, 0, 0, 0, 0, 0, 0,\n",
              "       0, 0, 0, 0, 0, 0, 1, 1, 1, 1, 1, 1, 1, 1, 1, 1, 1, 1, 1, 1, 1, 1,\n",
              "       1, 1, 1, 1, 1, 1, 1, 1, 1, 1, 1, 1, 1, 1, 1, 1, 1, 1, 1, 1, 1, 1,\n",
              "       1, 1, 1, 1, 1, 1, 1, 1, 1, 1, 1, 1])"
            ]
          },
          "metadata": {},
          "execution_count": 6
        }
      ]
    },
    {
      "cell_type": "code",
      "metadata": {
        "colab": {
          "base_uri": "https://localhost:8080/"
        },
        "id": "XakVyivt1vqL",
        "outputId": "7117b4fb-269d-4c6c-cd60-b64c4832ee52"
      },
      "source": [
        "\"\"\"\n",
        "전체적으로 3개의 클래스 존재(꽃들의 종류) 0으로 나오면 setosa, 1번이면 versicolor,\n",
        "2번이aus virginica\n",
        "어떤 data가 input으로 들어올때 어떤 클래스에 해당하는 꽃인지 decision tree로 구해보자!\n",
        "fully connected layer로도 가능할 테지만, 이 편도 가능.\n",
        "\"\"\"\n",
        "iris.target_names"
      ],
      "execution_count": 7,
      "outputs": [
        {
          "output_type": "execute_result",
          "data": {
            "text/plain": [
              "array(['setosa', 'versicolor', 'virginica'], dtype='<U10')"
            ]
          },
          "metadata": {},
          "execution_count": 7
        }
      ]
    },
    {
      "cell_type": "code",
      "metadata": {
        "id": "_XF-eYg_2NdT"
      },
      "source": [
        "model = tree.DecisionTreeClassifier()"
      ],
      "execution_count": 8,
      "outputs": []
    },
    {
      "cell_type": "markdown",
      "metadata": {
        "id": "M8dc4Z4T2nnO"
      },
      "source": [
        ""
      ]
    },
    {
      "cell_type": "code",
      "metadata": {
        "id": "Zw1qU-nu1mLA"
      },
      "source": [
        "model = model.fit(X,y) #인풋, 아웃풋 넣고 fit"
      ],
      "execution_count": 9,
      "outputs": []
    },
    {
      "cell_type": "code",
      "metadata": {
        "colab": {
          "base_uri": "https://localhost:8080/",
          "height": 53
        },
        "id": "_1_swNcr2TmW",
        "outputId": "4b7f87a2-5e1f-44b2-d0f1-003077d0fb20"
      },
      "source": [
        "import graphviz\n",
        "\n",
        "#\n",
        "dot_data = tree.export_graphviz(model, out_file = None)\n",
        "graph = graphviz.Source(dot_data)\n",
        "\n",
        "graph #트리 완성시키기\n",
        "\n",
        "\"\"\"\n",
        "지니계수는, 아래에서는 그냥 1에서 뺀 것이 아닌, 높은 게 더 좋다고 표시함\n",
        "X[2]인 꽃잎 너비가 0.8보다 작느냐를 기준으로 트리를 구성  \n",
        "\"\"\""
      ],
      "execution_count": 10,
      "outputs": [
        {
          "output_type": "execute_result",
          "data": {
            "application/vnd.google.colaboratory.intrinsic+json": {
              "type": "string"
            },
            "text/plain": [
              "'\\n지니계수는, 아래에서는 그냥 1에서 뺀 것이 아닌, 높은 게 더 좋다고 표시함\\nX[2]인 꽃잎 너비가 0.8보다 작느냐를 기준으로 트리를 구성  \\n'"
            ]
          },
          "metadata": {},
          "execution_count": 10
        }
      ]
    },
    {
      "cell_type": "code",
      "metadata": {
        "colab": {
          "base_uri": "https://localhost:8080/"
        },
        "id": "xLTcaMCt3G1M",
        "outputId": "434a0314-28da-4612-d163-5ee485a06cdc"
      },
      "source": [
        "iris.target_names"
      ],
      "execution_count": 11,
      "outputs": [
        {
          "output_type": "execute_result",
          "data": {
            "text/plain": [
              "array(['setosa', 'versicolor', 'virginica'], dtype='<U10')"
            ]
          },
          "metadata": {},
          "execution_count": 11
        }
      ]
    },
    {
      "cell_type": "code",
      "metadata": {
        "colab": {
          "base_uri": "https://localhost:8080/"
        },
        "id": "MhEr0PEy3J5U",
        "outputId": "71ff5b69-13ba-4b0e-f7c0-8076f36f1c40"
      },
      "source": [
        "\"\"\"\n",
        "만일 아래의 새 데이터가 들어왔다 할 때, 이 꽃이 어떤 품종인지 밝히고자 한다.\n",
        "예측을 돌려본다. predict통해, decision tree에다가 X[50]을 넣어본다.\n",
        "\"\"\"\n",
        "X[50]"
      ],
      "execution_count": 12,
      "outputs": [
        {
          "output_type": "execute_result",
          "data": {
            "text/plain": [
              "array([7. , 3.2, 4.7, 1.4])"
            ]
          },
          "metadata": {},
          "execution_count": 12
        }
      ]
    },
    {
      "cell_type": "code",
      "metadata": {
        "colab": {
          "base_uri": "https://localhost:8080/"
        },
        "id": "abeyCMc13M6q",
        "outputId": "a19d4b5b-ecec-4a12-b3c2-fbb4daa0a02a"
      },
      "source": [
        "\"\"\"\n",
        "50번쨰 꽃은 첫 번째 클래스(종류의 꽃), 100번쨰 꽃은 두 번째 클래스(꽃)이다.\n",
        "\"\"\"\n",
        "model.predict([X[0], X[50], X[100]])"
      ],
      "execution_count": 13,
      "outputs": [
        {
          "output_type": "execute_result",
          "data": {
            "text/plain": [
              "array([0, 1, 2])"
            ]
          },
          "metadata": {},
          "execution_count": 13
        }
      ]
    },
    {
      "cell_type": "code",
      "metadata": {
        "id": "euUJ46B6Kc3E"
      },
      "source": [
        "\"\"\"\n",
        "배깅 - 마치 투표처럼, decision 트리는 하나의 결과를 예측하는 것으로, 심장병이 있을지 없을지\n",
        "판단하는데, 앙상블은 그 트리를 여러개 만들어, 예측 결과를 투표를 통해 의사결정 함.\n",
        "(랜덤 포레스트)\n",
        "이에 쓰이는 데이터는 일부만 쓰인다. \n",
        "의사결정이 완성된 모든 트리를 넣은뒤, 각각이 도출한 결과 중 가장 많은 결과치가 나온 걸로 결정\n",
        "심장병 있는거 3개, 없는거 1개로 결과가 나왔다면 나온 것으로 하는 등....\n",
        "\"\"\"\n",
        "from sklearn.ensemble import RandomForestClassifier\n",
        "\n",
        "#maxdepth = \n",
        "#샘플을 몇개로 쪼갤까 - mean sample\n",
        "#estimate가 100 : 트리를 100개까지 만듬\n",
        "rf_model = RandomForestClassifier(n_estimators= 10, max_depth = 4, random_state = 0)\n",
        "rf_model = rf_model.fit(X,y)"
      ],
      "execution_count": 17,
      "outputs": []
    },
    {
      "cell_type": "code",
      "metadata": {
        "id": "XMHJdj-_MhBa",
        "outputId": "05ce486b-ff0c-484b-968f-a3c374a53af2",
        "colab": {
          "base_uri": "https://localhost:8080/"
        }
      },
      "source": [
        "rf_model.predict([X[0], X[1], X[2]])"
      ],
      "execution_count": 20,
      "outputs": [
        {
          "output_type": "execute_result",
          "data": {
            "text/plain": [
              "array([0, 0, 0])"
            ]
          },
          "metadata": {},
          "execution_count": 20
        }
      ]
    }
  ]
}